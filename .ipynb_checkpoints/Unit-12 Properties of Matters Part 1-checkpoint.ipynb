{
 "cells": [
  {
   "cell_type": "markdown",
   "metadata": {},
   "source": [
    "<div align=\"right\"><font size=+1 color=\"red\">สื่อดิจิทัลเพื่อการศึกษาอาชีวศึกษา</font><br>หลักสูตรประกาศนียบัตรวิชาชีพชั้นสูง ประเภทวิชาอุตสาหกรรม สาขาวิชาเทคนิคเครื่องกล </div>"
   ]
  },
  {
   "cell_type": "markdown",
   "metadata": {},
   "source": [
    "# <center><font color=\"blue\"> 30000-1304 วิทยาศาสตร์งานเครื่องกลและการผลิต<br>Science for Mechanical and Production Works (2-2-3)</center>\n",
    "\n",
    "<div align=\"right\">บำรุง พ่วงเกิด PhD (Swansea, UK)<br>วิศวกรรมเครื่องกล สจล</div>"
   ]
  },
  {
   "cell_type": "markdown",
   "metadata": {},
   "source": [
    "## เนื้อหารายวิชา\n",
    "\n",
    "<font size=+1>\n",
    "    \n",
    "* กลศาสตร์วิศวกรรม (หน่วยที่ 1-11) ผู้สอน: สยาม สงวนรัมย์\n",
    "* คุณสมบัติของสสาร (หน่วยที่ 12-15) ผู้สอน: บำรุง พ่วงเกิด\n",
    "* ความร้อนและการถ่ายเทความร้อน (หน่วยที่ 16-17) ผู้สอน: บำรุง พ่วงเกิด\n",
    "* ปิโตรเลียมและผลิตภัณฑ์ (หน่วยที่ 18) ผู้สอน: บำรุง พ่วงเกิด"
   ]
  },
  {
   "cell_type": "markdown",
   "metadata": {},
   "source": [
    "## หน่วยที่ 12 - สมบัติของสสาร ภาค I <br> (Properties of Matters Part I)"
   ]
  },
  {
   "cell_type": "markdown",
   "metadata": {},
   "source": [
    "## สสาร (Matters)\n",
    "\n",
    "> **เอกสารอ้างอิง** John Bird \n",
    "[_Science and Mathematics for Engineering_ 6th Edition](https://www.amazon.com/Science-Mathematics-Engineering-John-Bird-ebook/dp/B07YNYFVJT/), [Routledge, 2020](https://routledgetextbooks.com/textbooks/9780367204747/).\n",
    "\n",
    "\n",
    "ก่อนหน้านี้มีความคิดว่าสสาร (Matter) คือสิ่งที่ต้องการที่อยู่และมีน้ำหนัก และใช้เวลาสักครู่ที่นักวิทยาศาสตร์จะรู้ว่าอากาศและแก๊สก็เป็นสสารด้วย\n",
    "\n",
    "นิยามทางวิทยาศาสตร์ของสสารคือสิ่งที่ต้องการที่อยู่ (Space) และมี__มวล__(mass)\n",
    "\n",
    "มีการพบว่าสสารมีความไม่ต่อเนื่อง (not continuous) ทำให้เกิดทฤษฎีโมเลกุลของสสาร (Molecular theory of matters) และทฤษฎีอะตอมของสสาร (Atomic theory of matter) เกิดขึ้น โดยบอกว่าสสารประกอบไปด้วยอนุภาคขนาดเล็กเรียกว่าโมเลกุล (Molecules) และอะตอม (Atoms) โดยเคยมีความคิดว่าสสารประกอบด้วยอะตอมเป็นหน่วยที่เล็กที่สุดและไม่สามารถแบ่งแยกอะตอมได้ แต่จากการทดลองได้แสดงว่าอะตอมประกอบด้วยอนุภาคที่เล็กกว่าอาทิ โปรตอน (Protons) นิวตรอน (Neutrons) และอิเล็กตรอน (Electrons) \n",
    "\n",
    "พืจารณาถึงความแบ่งแยกต่อไปไม่ได้ พบว่าโปรตรอน และนิวตรอนประกอบด้วยอนุภาคที่แบ่งแยกต่อไปไปไม่ได้เรียกว่าควาก (Quarks) นอกจากนี้ยังมีการค้นพบอนุภาคที่ไม่เป็นส่วนหนึ่งของอะตอมอีกด้วย\n",
    "\n",
    "<img src=\"https://i.pinimg.com/564x/59/bf/dc/59bfdc6d93eba5da364f7bb95ef144e2.jpg\">"
   ]
  },
  {
   "cell_type": "markdown",
   "metadata": {},
   "source": [
    "## แรงพื้นฐาน\n",
    "\n",
    "* แรงโน้มถ่วง\n",
    "* แรงไฟฟ้าและแม่เหล็ก\n",
    "* แรงนิวเคลียร์\n",
    "* แรงอ่อน"
   ]
  },
  {
   "cell_type": "markdown",
   "metadata": {},
   "source": [
    "### ธาตุ อะตอม โมเลกุล และสารประกอบ\n",
    "\n",
    "เรามีสาร (Substances) อยู่จำนวนมาก แต่ละสารจะประกอบไปด้วยวัสดุ (Materials) แบบพื้นฐานชนิดหนึ่งหรือหลายชนิด ที่เรียกว่า[ธาตุ (Elements)](https://th.wikipedia.org/wiki/ธาตุ)\n",
    "\n",
    "> ธาตุ (Elements) คือสารที่ไม่สามารถแยกออกจากกันด้วยขบวนการทางเคมี"
   ]
  },
  {
   "cell_type": "markdown",
   "metadata": {},
   "source": [
    "มีธาตุในธรรมชาติอยู่ 92 ธาตุ และเกิดจากการสังเคราะห์ 13 ธาตุ"
   ]
  },
  {
   "cell_type": "markdown",
   "metadata": {},
   "source": [
    "ตัวอย่างของธาตุและสัญลักษณ์ของธาตุ\n",
    "\n",
    "[ไฮโดรเจน H](https://th.wikipedia.org/wiki/ไฮโดรเจน)\n",
    "[ฮีเลียม He](https://th.wikipedia.org/wiki/ฮีเลียม)\n",
    "[คาร์บอน C](https://th.wikipedia.org/wiki/คาร์บอน)\n",
    "[ไนโตรเจน N](https://th.wikipedia.org/wiki/ไนโตรเจน)\n",
    "[ออกซิเจน O](https://th.wikipedia.org/wiki/ออกซิเจน)\n",
    "[โซเดียม Na](https://th.wikipedia.org/wiki/โซเดียม)\n",
    "[แมกนีเซียม Mg](https://th.wikipedia.org/wiki/แมกนีเซียม)\n",
    "[อะลูมิเนียม Al](https://th.wikipedia.org/wiki/อะลูมิเนียม)\n",
    "[ซิลิคอน Si](https://th.wikipedia.org/wiki/ซิลิคอน)\n",
    "[ฟอสฟอรัส P](https://th.wikipedia.org/wiki/ฟอสฟอรัส)\n",
    "[กำมะถัน S](https://th.wikipedia.org/wiki/กำมะถัน)\n",
    "[โปรแทสเซียม K](https://th.wikipedia.org/wiki/โพแทสเซียม)\n",
    "[แคลเซียม Ca](https://th.wikipedia.org/wiki/แคลเซียม)\n",
    "[เหล็ก Fe](https://th.wikipedia.org/wiki/เหล็ก)\n",
    "[นิกเกิล Ni](https://th.wikipedia.org/wiki/นิกเกิล)\n",
    "[ทองแดง Cu](https://th.wikipedia.org/wiki/ทองแดง)\n",
    "[สังกะสี Zn](https://th.wikipedia.org/wiki/สังกะสี)\n",
    "[เงิน Ag](https://th.wikipedia.org/wiki/เงิน_(โลหะ))\n",
    "[ดีบุก Tn](https://th.wikipedia.org/wiki/ดีบุก)\n",
    "[ทองคำ Au](https://th.wikipedia.org/wiki/ทองคำ)\n",
    "[ปรอท Hg](https://th.wikipedia.org/wiki/ปรอท)\n",
    "[ตะกั่ว Pb](https://th.wikipedia.org/wiki/ตะกั่ว)\n",
    "[ยูเรเนียม U](https://th.wikipedia.org/wiki/ยูเรเนียม)"
   ]
  },
  {
   "cell_type": "markdown",
   "metadata": {},
   "source": [
    "#### อะตอม\n",
    "\n",
    "![อะตอม](https://upload.wikimedia.org/wikipedia/commons/thumb/2/23/Helium_atom_QM.svg/800px-Helium_atom_QM.svg.png)\n",
    "\n",
    "ธาตุประกอบด้วยองค์ประกอบย่อยเรียกว่า__อะตอม__\n",
    "\n",
    "> อะตอมคือส่วนที่เล็กที่สุดของธาตุซึ่งมีส่วนในการเปลี่ยนแปลงทางเคมีและยังคงคุณสมบัติความเป็นธาตุอยู่\n",
    "\n",
    "แต่ละธาตุประกอบด้วยอะตอมที่แตกต่างกันออกไป"
   ]
  },
  {
   "cell_type": "markdown",
   "metadata": {},
   "source": [
    "ทฤษฎีอะตอม\n",
    "\n",
    "แบบจำลองของอะตอมอาจมองว่ามีลักษณะคล้ายวงโคจรของระบบสุริยจักรวาล มี\n",
    "[นิวเคลียส (Nucleus)](https://th.wikipedia.org/wiki/นิวเคลียสของอะตอม) อยู่ตรงกลาง มีอนุภาคที่มีประจุลบที่ชื่อว่า[อิเล็กตรอน (Electrons)](https://th.wikipedia.org/wiki/อิเล็กตรอน)\n",
    "โคจรรอบอยู่ เป็นวงโคจรที่เป็นแถบคงที่เรียกว่าเป็นชั้น (Shells)\n",
    "\n",
    "นิวเคลียสหรือใจกลางประกอบด้วยอนุภาคประจุบวกที่เรียกว่า[โปรตรอน (Protrons)](https://th.wikipedia.org/wiki/โปรตอน) และอนุภาคที่ไม่มีประจุอยู่ด้วยกันเรียกว่า[นิวตรอน (Neutrons)](https://th.wikipedia.org/wiki/นิวตรอน)\n",
    "\n",
    "อิเล็กตรอนมี"
   ]
  },
  {
   "cell_type": "markdown",
   "metadata": {},
   "source": [
    "![ตารางธาตุ](https://upload.wikimedia.org/wikipedia/commons/thumb/8/84/Periodic_table.svg/1920px-Periodic_table.svg.png)"
   ]
  },
  {
   "cell_type": "markdown",
   "metadata": {},
   "source": [
    "#### โมเลกุล"
   ]
  },
  {
   "cell_type": "markdown",
   "metadata": {},
   "source": [
    "#### สารประกอบ"
   ]
  },
  {
   "cell_type": "markdown",
   "metadata": {},
   "source": [
    "### สารผสม สารละลาย สารแขวนลอย และการทำละลาย"
   ]
  },
  {
   "cell_type": "markdown",
   "metadata": {},
   "source": [
    "### ผลึก"
   ]
  },
  {
   "cell_type": "markdown",
   "metadata": {},
   "source": [
    "### โลหะ"
   ]
  }
 ],
 "metadata": {
  "kernelspec": {
   "display_name": "Python 3",
   "language": "python",
   "name": "python3"
  },
  "language_info": {
   "codemirror_mode": {
    "name": "ipython",
    "version": 3
   },
   "file_extension": ".py",
   "mimetype": "text/x-python",
   "name": "python",
   "nbconvert_exporter": "python",
   "pygments_lexer": "ipython3",
   "version": "3.8.3"
  }
 },
 "nbformat": 4,
 "nbformat_minor": 4
}
