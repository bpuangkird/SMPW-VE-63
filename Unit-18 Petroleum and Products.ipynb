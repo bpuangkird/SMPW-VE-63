{
 "cells": [
  {
   "cell_type": "markdown",
   "metadata": {},
   "source": [
    "<div align=\"right\"><font size=+1 color=\"red\">สื่อดิจิทัลเพื่อการศึกษาอาชีวศึกษา</font><br>หลักสูตรประกาศนียบัตรวิชาชีพชั้นสูง ประเภทวิชาอุตสาหกรรม สาขาวิชาเทคนิคเครื่องกล </div>"
   ]
  },
  {
   "cell_type": "markdown",
   "metadata": {},
   "source": [
    "# <center><font color=\"blue\"> 30000-1304 <br> วิทยาศาสตร์งานเครื่องกลและการผลิต<br>Science for Mechanical and Production Works (2-2-3)</center>\n",
    "\n",
    "<div align=\"right\">บำรุง พ่วงเกิด PhD (Swansea, UK)<br>วิศวกรรมเครื่องกล สจล</div>"
   ]
  },
  {
   "cell_type": "markdown",
   "metadata": {},
   "source": [
    "## เนื้อหารายวิชา\n",
    "\n",
    "<font size=+1>\n",
    "    \n",
    "* กลศาสตร์วิศวกรรม (หน่วยที่ 1-11) ผู้สอน: สยาม สงวนรัมย์\n",
    "* คุณสมบัติของสสาร (หน่วยที่ 12-15) ผู้สอน: บำรุง พ่วงเกิด\n",
    "    * ของแข็ง\n",
    "    * ของเหลว\n",
    "    * แก๊ส\n",
    "    * ปริมาณสารสัมพันธ์\n",
    "* ความร้อนและการถ่ายเทความร้อน (หน่วยที่ 16-17) ผู้สอน: บำรุง พ่วงเกิด\n",
    "    * ปริมาณความร้อน การถ่ายโอนความร้อน และการเปลี่ยนรูปพลังงานความร้อน\n",
    "    * การนำ การพา และการแผ่รังสีของความร้อน\n",
    "* <font size=+1 color=\"blue\"> __ปิโตรเลียมและผลิตภัณฑ์__ (หน่วยที่ 18) ผู้สอน: บำรุง พ่วงเกิด"
   ]
  },
  {
   "cell_type": "markdown",
   "metadata": {},
   "source": [
    "# หน่วยที่ 18 - ปิโตรเลียมและผลิตภัณฑ์ "
   ]
  },
  {
   "cell_type": "markdown",
   "metadata": {},
   "source": [
    "## เอกสารอ้างอิง\n",
    "\n",
    "* [James G. Speight Handbook of Industrial Hydrocarbon Processes 2nd Edition 2019](https://www.amazon.com/Handbook-Industrial-Hydrocarbon-Processes-Speight/dp/0128099232/ref=sr_1_1)"
   ]
  },
  {
   "cell_type": "markdown",
   "metadata": {},
   "source": [
    "## การเกิดและการค้นพบ"
   ]
  },
  {
   "cell_type": "markdown",
   "metadata": {},
   "source": [
    "## สมบัติ"
   ]
  },
  {
   "cell_type": "markdown",
   "metadata": {},
   "source": [
    "## การสำรวจและการผลิต"
   ]
  },
  {
   "cell_type": "markdown",
   "metadata": {},
   "source": [
    "## ผลิตภัณฑ์จากปิโตรเลียม"
   ]
  },
  {
   "cell_type": "markdown",
   "metadata": {},
   "source": [
    "### เชื้อเพลิงหลัก"
   ]
  },
  {
   "cell_type": "markdown",
   "metadata": {},
   "source": [
    "### เชื้อเพลิงผสม"
   ]
  },
  {
   "cell_type": "markdown",
   "metadata": {},
   "source": [
    "### ปืโตรเคมีภัณฑ์"
   ]
  },
  {
   "cell_type": "markdown",
   "metadata": {},
   "source": [
    "## ปัญหา"
   ]
  }
 ],
 "metadata": {
  "kernelspec": {
   "display_name": "Python 3",
   "language": "python",
   "name": "python3"
  },
  "language_info": {
   "codemirror_mode": {
    "name": "ipython",
    "version": 3
   },
   "file_extension": ".py",
   "mimetype": "text/x-python",
   "name": "python",
   "nbconvert_exporter": "python",
   "pygments_lexer": "ipython3",
   "version": "3.8.3"
  }
 },
 "nbformat": 4,
 "nbformat_minor": 4
}
