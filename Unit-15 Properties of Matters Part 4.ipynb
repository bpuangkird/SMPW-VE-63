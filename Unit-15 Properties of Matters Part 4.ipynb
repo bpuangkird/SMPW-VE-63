{
 "cells": [
  {
   "cell_type": "markdown",
   "metadata": {},
   "source": [
    "# <center> 30000-1304 วิทยาศาสตร์งานเครื่องกลและการผลิต<br>Science for Mechanical and Production Works (2-2-3)</center>\n",
    "\n",
    "<div align=\"right\">บำรุง พ่วงเกิด PhD (Swansea, UK)<br>วิศวกรรมเครื่องกล สจล</div>"
   ]
  },
  {
   "cell_type": "markdown",
   "metadata": {},
   "source": [
    "## เนื้อหารายวิชา\n",
    "\n",
    "* กลศาสตร์ (หน่วยที่ 1-11) ผู้สอน: สยาม สงวนรัมย์\n",
    "    * แรงและสมดุลของแรง (หน่วยที่ 1-5)\n",
    "        * ความรู้เกี่ยวกับเวกเตอร์\n",
    "        * โมเมนต์\n",
    "    * การเคลื่อนที่ (หน่วยที่ 6-11)\n",
    "        * ทอร์ก\n",
    "        * โมเมนตัม\n",
    "* คุณสมบัติของสสาร (หน่วยที่ 12-15) ผู้สอน: บำรุง พ่วงเกิด\n",
    "    * ของแข็ง\n",
    "    * ของเหลว\n",
    "    * แก๊ส\n",
    "    * ปริมาณสารสัมพันธ์\n",
    "* ความร้อนและการถ่ายเทความร้อน (หน่วยที่ 16-17) ผู้สอน: บำรุง พ่วงเกิด\n",
    "    * ปริมาณความร้อน การถ่ายโอนความร้อน และการเปลี่ยนรูปพลังงานความร้อน\n",
    "    * การนำ การพา และการแผ่รังสีของความร้อน\n",
    "* ปิโตรเลียมและผลิตภัณฑ์ (หน่วยที่ 18) ผู้สอน: บำรุง พ่วงเกิด"
   ]
  },
  {
   "cell_type": "markdown",
   "metadata": {},
   "source": [
    "## หน่วยที่ 15 - สมบัติของสสาร ภาค IV <br> (Properties of Matters Part IV)"
   ]
  },
  {
   "cell_type": "markdown",
   "metadata": {},
   "source": [
    "# ปริมาณสารสัมพันธ์"
   ]
  },
  {
   "cell_type": "code",
   "execution_count": null,
   "metadata": {},
   "outputs": [],
   "source": []
  }
 ],
 "metadata": {
  "kernelspec": {
   "display_name": "Python 3",
   "language": "python",
   "name": "python3"
  },
  "language_info": {
   "codemirror_mode": {
    "name": "ipython",
    "version": 3
   },
   "file_extension": ".py",
   "mimetype": "text/x-python",
   "name": "python",
   "nbconvert_exporter": "python",
   "pygments_lexer": "ipython3",
   "version": "3.8.3"
  }
 },
 "nbformat": 4,
 "nbformat_minor": 4
}
